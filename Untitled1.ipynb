{
  "nbformat": 4,
  "nbformat_minor": 0,
  "metadata": {
    "colab": {
      "provenance": []
    },
    "kernelspec": {
      "name": "python3",
      "display_name": "Python 3"
    },
    "language_info": {
      "name": "python"
    }
  },
  "cells": [
    {
      "cell_type": "code",
      "execution_count": 3,
      "metadata": {
        "colab": {
          "base_uri": "https://localhost:8080/"
        },
        "id": "-ZOfFIUY9YBH",
        "outputId": "54681cc5-e2a4-4ed4-a067-bbe66380386b"
      },
      "outputs": [
        {
          "output_type": "stream",
          "name": "stdout",
          "text": [
            "張詠齊\n",
            "<class 'str'>\n",
            "B1205001\n",
            "<class 'str'>\n",
            "{'name': '張詠齊', 'code': 'B1205001'}\n"
          ]
        }
      ],
      "source": [
        "name=\"張詠齊\"\n",
        "code=\"B1205001\"\n",
        "print(name)\n",
        "print(type(name))\n",
        "print(code)\n",
        "print(type(code))\n",
        "\n",
        "mydict={\"name\":\"張詠齊\", \"code\":\"B1205001\"}\n",
        "print(mydict)"
      ]
    }
  ]
}